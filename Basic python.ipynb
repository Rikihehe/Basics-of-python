{
 "cells": [
  {
   "cell_type": "code",
   "execution_count": 16,
   "id": "0099fb91",
   "metadata": {},
   "outputs": [
    {
     "name": "stdout",
     "output_type": "stream",
     "text": [
      "Write a sentence: The cat, being a cat, did what cats usually do: the cat slept, and the cat dreamt of being a cat\n",
      "{'The': 1, 'cat,': 2, 'being': 2, 'a': 2, 'did': 1, 'what': 1, 'cats': 1, 'usually': 1, 'do:': 1, 'the': 2, 'cat': 3, 'slept,': 1, 'and': 1, 'dreamt': 1, 'of': 1}\n"
     ]
    }
   ],
   "source": [
    "def letter_freq(phrase):\n",
    "    freq = {}\n",
    "    for letter in phrase:\n",
    "        if letter in freq:\n",
    "            freq[letter] += 1\n",
    "        else:\n",
    "            freq[letter] = 1\n",
    "    return freq\n",
    "\n",
    "def wordfreq(phrase2):\n",
    "    words=phrase2.split(\" \")\n",
    "    return letter_freq(words)\n",
    "\n",
    "line=input(\"Write a sentence: \")\n",
    "print(wordfreq(line))"
   ]
  },
  {
   "cell_type": "code",
   "execution_count": 6,
   "id": "8c57c76a",
   "metadata": {},
   "outputs": [
    {
     "name": "stdout",
     "output_type": "stream",
     "text": [
      "Index: 0, Letter: r\n",
      "Index: 1, Letter: a\n",
      "Index: 2, Letter: c\n",
      "Index: 3, Letter: e\n",
      "Index: 4, Letter: c\n",
      "Index: 5, Letter: a\n",
      "Index: 6, Letter: r\n"
     ]
    }
   ],
   "source": [
    "def is_palindrome_with_enumerate(string):\n",
    "    for index, letter in enumerate(string):\n",
    "        print(f\"Index: {index}, Letter: {letter}\")\n",
    "is_palindrome_with_enumerate(\"racecar\")"
   ]
  },
  {
   "cell_type": "code",
   "execution_count": 1,
   "id": "f8f8dcf3",
   "metadata": {},
   "outputs": [
    {
     "name": "stdout",
     "output_type": "stream",
     "text": [
      "Write the word to check if its a palindrome: defied\n"
     ]
    },
    {
     "data": {
      "text/plain": [
       "False"
      ]
     },
     "execution_count": 1,
     "metadata": {},
     "output_type": "execute_result"
    }
   ],
   "source": [
    "def is_palindrome(string):\n",
    "    x=string[::-1]\n",
    "    if x==string:\n",
    "        return True\n",
    "    else: return False\n",
    "test=input(\"Write the word to check if its a palindrome: \")\n",
    "is_palindrome(test)"
   ]
  },
  {
   "cell_type": "code",
   "execution_count": 2,
   "id": "63b2fbac",
   "metadata": {},
   "outputs": [
    {
     "name": "stdout",
     "output_type": "stream",
     "text": [
      "Write the word to check if its a palindrome: madam\n"
     ]
    },
    {
     "data": {
      "text/plain": [
       "True"
      ]
     },
     "execution_count": 2,
     "metadata": {},
     "output_type": "execute_result"
    }
   ],
   "source": [
    "def is_palindrome(string):\n",
    "    x=string[::-1]\n",
    "    if x==string:\n",
    "        return True\n",
    "    else: return False\n",
    "test=input(\"Write the word to check if its a palindrome: \")\n",
    "is_palindrome(test)"
   ]
  },
  {
   "cell_type": "code",
   "execution_count": null,
   "id": "3461ca9e",
   "metadata": {},
   "outputs": [],
   "source": []
  }
 ],
 "metadata": {
  "kernelspec": {
   "display_name": "Python 3 (ipykernel)",
   "language": "python",
   "name": "python3"
  },
  "language_info": {
   "codemirror_mode": {
    "name": "ipython",
    "version": 3
   },
   "file_extension": ".py",
   "mimetype": "text/x-python",
   "name": "python",
   "nbconvert_exporter": "python",
   "pygments_lexer": "ipython3",
   "version": "3.11.5"
  }
 },
 "nbformat": 4,
 "nbformat_minor": 5
}
